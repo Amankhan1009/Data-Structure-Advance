{
 "cells": [
  {
   "cell_type": "code",
   "execution_count": 4,
   "metadata": {},
   "outputs": [
    {
     "name": "stdout",
     "output_type": "stream",
     "text": [
      "inputed str:  hello\n"
     ]
    },
    {
     "data": {
      "text/plain": [
       "'olleh'"
      ]
     },
     "execution_count": 4,
     "metadata": {},
     "output_type": "execute_result"
    }
   ],
   "source": [
    "# 1 to reverse a string\n",
    "\n",
    "str = input(\"Enter String:\")\n",
    "print(\"inputed str: \",str )\n",
    "str[::-1]"
   ]
  },
  {
   "cell_type": "code",
   "execution_count": 7,
   "metadata": {},
   "outputs": [
    {
     "name": "stdout",
     "output_type": "stream",
     "text": [
      "Inputed string:  aman\n",
      "no of vowel:  2\n"
     ]
    }
   ],
   "source": [
    "# 2.code to count no of vowels in string\n",
    "def count_vowel(str):\n",
    "    vowels = \"aeiouAEIOU\"\n",
    "    count = 0\n",
    "\n",
    "    for char in str:\n",
    "        if char in vowels:\n",
    "            count+=1\n",
    "    return count\n",
    "\n",
    "str = input(\"Enter a word: \")\n",
    "print(\"Inputed string: \",str)\n",
    "no_of_vowel = count_vowel(str)\n",
    "print(\"no of vowel: \", no_of_vowel)"
   ]
  },
  {
   "cell_type": "code",
   "execution_count": 11,
   "metadata": {},
   "outputs": [
    {
     "name": "stdout",
     "output_type": "stream",
     "text": [
      "Inputed String:  noon\n",
      "reversed String:  noon\n",
      "pallindrome\n"
     ]
    }
   ],
   "source": [
    "# 3 code to check string palindrime or not\n",
    "str = input(\"Enter string: \")\n",
    "print(\"Inputed String: \", str)\n",
    "\n",
    "rev_str = str[::-1]\n",
    "print(\"reversed String: \", rev_str)\n",
    "\n",
    "if str == rev_str:\n",
    "    print(\"pallindrome\")\n",
    "else:\n",
    "    print(\"Not palindrome\")"
   ]
  },
  {
   "cell_type": "code",
   "execution_count": 31,
   "metadata": {},
   "outputs": [
    {
     "name": "stdout",
     "output_type": "stream",
     "text": [
      "String1:  aman\n",
      "String2:  nama\n"
     ]
    },
    {
     "data": {
      "text/plain": [
       "True"
      ]
     },
     "execution_count": 31,
     "metadata": {},
     "output_type": "execute_result"
    }
   ],
   "source": [
    "# 4 code to check string anagrams or not\n",
    "\n",
    "def anagram(str1,str2):\n",
    "    return sorted(str1) == sorted(str2)\n",
    "\n",
    "str1 = input(\"Enter string1: \")\n",
    "print(\"String1: \", str1)\n",
    "str2 = input(\"Enter string2: \")\n",
    "print(\"String2: \", str2)\n",
    "\n",
    "anagram(str1, str2)\n"
   ]
  },
  {
   "cell_type": "code",
   "execution_count": 21,
   "metadata": {},
   "outputs": [
    {
     "name": "stdout",
     "output_type": "stream",
     "text": [
      "[0, 7]\n"
     ]
    }
   ],
   "source": [
    "#  5.find all occurrence of a given substring within another string\n",
    "def occurrence(str, sub):\n",
    "    occurrence=[]\n",
    "    index=0\n",
    "    while index<len(str):\n",
    "        pos = str.find(sub,index)\n",
    "        if pos==-1:\n",
    "            break\n",
    "        occurrence.append(pos)\n",
    "        index = pos+1\n",
    "    return occurrence\n",
    "\n",
    "str = \"abracadabra\"\n",
    "sub = \"abra\"\n",
    "print(occurrence(str, sub))  # Output: [0, 7]\n"
   ]
  },
  {
   "cell_type": "code",
   "execution_count": 2,
   "metadata": {},
   "outputs": [
    {
     "name": "stdout",
     "output_type": "stream",
     "text": [
      "ab4c4de5\n"
     ]
    }
   ],
   "source": [
    "# 6. striing compression\n",
    "def compression(s):\n",
    "    res=\"\"\n",
    "    count = 1\n",
    "    for i in range(1, len(s)):\n",
    "        if s[i-1]==s[i]:\n",
    "            count += 1\n",
    "        \n",
    "        else:\n",
    "            res = res+s[i-1]\n",
    "            if count>1:\n",
    "                res += str(count)\n",
    "            count=1\n",
    "    \n",
    "    res = res+s[-1]\n",
    "    if count>1:\n",
    "        res += str(count)\n",
    "    return res\n",
    "\n",
    "s = \"abbbbccccdeeeee\"\n",
    "print(compression(s))\n"
   ]
  },
  {
   "cell_type": "code",
   "execution_count": 4,
   "metadata": {},
   "outputs": [
    {
     "data": {
      "text/plain": [
       "False"
      ]
     },
     "execution_count": 4,
     "metadata": {},
     "output_type": "execute_result"
    }
   ],
   "source": [
    "# 7. if a string has a unique characters\n",
    "def unique(s):\n",
    "    return len(s) == len(set(s))\n",
    "\n",
    "s = \"jisoo\"\n",
    "unique(s)"
   ]
  },
  {
   "cell_type": "code",
   "execution_count": 6,
   "metadata": {},
   "outputs": [
    {
     "name": "stdout",
     "output_type": "stream",
     "text": [
      "HELLO WORLD\n",
      "hello world\n"
     ]
    }
   ],
   "source": [
    "# 8.code to convert string to lower case or upper case\n",
    "my_string = \"hello world\"\n",
    "\n",
    "uppercase_string = my_string.upper()\n",
    "print(uppercase_string)  \n",
    "\n",
    "lowercase_string = my_string.lower()\n",
    "print(lowercase_string)  "
   ]
  },
  {
   "cell_type": "code",
   "execution_count": 10,
   "metadata": {},
   "outputs": [
    {
     "name": "stdout",
     "output_type": "stream",
     "text": [
      "6\n"
     ]
    }
   ],
   "source": [
    "# 9. code to count no of words in a string\n",
    "str = \"Hello, My name is Iron man\"\n",
    "\n",
    "print(len(str.split()))"
   ]
  },
  {
   "cell_type": "code",
   "execution_count": 14,
   "metadata": {},
   "outputs": [
    {
     "data": {
      "text/plain": [
       "'kim_jisoo'"
      ]
     },
     "execution_count": 14,
     "metadata": {},
     "output_type": "execute_result"
    }
   ],
   "source": [
    "# 10. concatenate two string without + operator\n",
    "def concatenate(s1, s2):\n",
    "    return ''.join([s1, s2])\n",
    "\n",
    "s1=\"kim\"\n",
    "s2=\"_jisoo\"\n",
    "concatenate(s1,s2)"
   ]
  },
  {
   "cell_type": "code",
   "execution_count": 20,
   "metadata": {},
   "outputs": [
    {
     "data": {
      "text/plain": [
       "[1, 3, 4]"
      ]
     },
     "execution_count": 20,
     "metadata": {},
     "output_type": "execute_result"
    }
   ],
   "source": [
    "# 11.remove all occurrence of a specific element\n",
    "def remove(lst, element):\n",
    "    return list(filter(lambda x: x!=element, lst))\n",
    "lst = [1, 2, 3, 2, 4, 2]\n",
    "remove(lst,2)\n"
   ]
  },
  {
   "cell_type": "code",
   "execution_count": 21,
   "metadata": {},
   "outputs": [
    {
     "data": {
      "text/plain": [
       "7"
      ]
     },
     "execution_count": 21,
     "metadata": {},
     "output_type": "execute_result"
    }
   ],
   "source": [
    "# 12.second largestt no in given list of integers\n",
    "def second_largest(lst):\n",
    "    unique_lst = list(set(lst))\n",
    "    unique_lst.remove(max(unique_lst))\n",
    "    return max(unique_lst)\n",
    "lst = [1,2,3,4,5,7,9]\n",
    "second_largest(lst)"
   ]
  },
  {
   "cell_type": "code",
   "execution_count": 22,
   "metadata": {},
   "outputs": [
    {
     "data": {
      "text/plain": [
       "{1: 2, 2: 3, 3: 1, 4: 1}"
      ]
     },
     "execution_count": 22,
     "metadata": {},
     "output_type": "execute_result"
    }
   ],
   "source": [
    "# 13.Count occurrences of elements and return a dictionary:\n",
    "\n",
    "from collections import Counter\n",
    "def count_occurrences(lst):\n",
    "    return dict(Counter(lst))\n",
    "\n",
    "lst = [1, 2, 3, 2, 4, 2, 1]\n",
    "count_occurrences(lst)"
   ]
  },
  {
   "cell_type": "code",
   "execution_count": 24,
   "metadata": {},
   "outputs": [
    {
     "name": "stdout",
     "output_type": "stream",
     "text": [
      "oosij\n"
     ]
    }
   ],
   "source": [
    "# 14.Reverse a list in-place without built-in reverse function:\n",
    "s = \"jisoo\"\n",
    "rev_s = s[::-1]\n",
    "print(rev_s)"
   ]
  },
  {
   "cell_type": "code",
   "execution_count": 27,
   "metadata": {},
   "outputs": [
    {
     "name": "stdout",
     "output_type": "stream",
     "text": [
      "[1, 2, 4, 5, 6, 7, 8, 10]\n"
     ]
    }
   ],
   "source": [
    "# 15.Find and remove duplicates from a list while preserving order:\n",
    "lst = [10,1,2,7,2,5,6,8,8,4,6]\n",
    "remove_duplicates = list(set(lst))\n",
    "print(remove_duplicates)\n"
   ]
  },
  {
   "cell_type": "code",
   "execution_count": 38,
   "metadata": {},
   "outputs": [
    {
     "data": {
      "text/plain": [
       "False"
      ]
     },
     "execution_count": 38,
     "metadata": {},
     "output_type": "execute_result"
    }
   ],
   "source": [
    "# 16.Check if a list is sorted:\n",
    "def is_sorted(s):\n",
    "    return s == list(sorted(s))\n",
    "s = [1,2,3,5,4]\n",
    "is_sorted(s)"
   ]
  },
  {
   "cell_type": "code",
   "execution_count": 39,
   "metadata": {},
   "outputs": [
    {
     "data": {
      "text/plain": [
       "[1, 2, 3, 4, 5, 6, 7, 8, 9, 10]"
      ]
     },
     "execution_count": 39,
     "metadata": {},
     "output_type": "execute_result"
    }
   ],
   "source": [
    "# 17. Merge two sorted lists into a single sorted list:\n",
    "def merge(l1, l2):\n",
    "    return sorted(l1+l2)\n",
    "\n",
    "l1 = [1,3,5,7,9]\n",
    "l2 = [2,4,6,8,10]\n",
    "merge(l1,l2)"
   ]
  },
  {
   "cell_type": "code",
   "execution_count": 40,
   "metadata": {},
   "outputs": [
    {
     "data": {
      "text/plain": [
       "[8, 1, 4]"
      ]
     },
     "execution_count": 40,
     "metadata": {},
     "output_type": "execute_result"
    }
   ],
   "source": [
    "# 18.Find the intersection of two given lists:\n",
    "def intersection(l1,l2):\n",
    "    return list(set(l1) & set(l2))\n",
    "\n",
    "l1 = [1,2,2,4,4,4,8]\n",
    "l2 = [1,4,8]\n",
    "intersection(l1, l2)\n"
   ]
  },
  {
   "cell_type": "code",
   "execution_count": 42,
   "metadata": {},
   "outputs": [
    {
     "data": {
      "text/plain": [
       "[1, 2, 4, 8]"
      ]
     },
     "execution_count": 42,
     "metadata": {},
     "output_type": "execute_result"
    }
   ],
   "source": [
    "# 19.Find the union of two lists without duplicates:\n",
    "def union(l1, l2):\n",
    "    return list(set(l1) | set(l2))\n",
    "l1 = [1,2,2,4,4,4,8]\n",
    "l2 = [1,4,8]\n",
    "union(l1,l2)\n"
   ]
  },
  {
   "cell_type": "code",
   "execution_count": 44,
   "metadata": {},
   "outputs": [
    {
     "data": {
      "text/plain": [
       "[1, 5, 3, 4, 2]"
      ]
     },
     "execution_count": 44,
     "metadata": {},
     "output_type": "execute_result"
    }
   ],
   "source": [
    "# 20.Shuffle a given list randomly without using built-in shuffle functions:\n",
    "import random\n",
    "def shuffle(lst):\n",
    "    for i in range(len(lst)-1, 0, -1):\n",
    "        j = random.randint(0,i)\n",
    "        lst[i], lst[j] = lst[j], lst[i]\n",
    "        return lst\n",
    "\n",
    "lst = [1,2,3,4,5]\n",
    "shuffle(lst)\n"
   ]
  },
  {
   "cell_type": "code",
   "execution_count": 47,
   "metadata": {},
   "outputs": [
    {
     "data": {
      "text/plain": [
       "(1, 2, 4)"
      ]
     },
     "execution_count": 47,
     "metadata": {},
     "output_type": "execute_result"
    }
   ],
   "source": [
    "# 21.Return a new tuple containing elements common to both input tuples:\n",
    "def commom(t1, t2):\n",
    "    return tuple(set(t1) & set(t2))\n",
    "\n",
    "t1 = (1,2,3,4,8)\n",
    "t2 = (2,4,1,6,7)\n",
    "commom(t1, t2)"
   ]
  },
  {
   "cell_type": "code",
   "execution_count": 55,
   "metadata": {},
   "outputs": [
    {
     "name": "stdout",
     "output_type": "stream",
     "text": [
      "Intersection: {2, 3, 4}\n"
     ]
    }
   ],
   "source": [
    "# 22.Prompt the user to enter two sets of integers, print the intersection:\n",
    "def intersection_of_sets():\n",
    "    set1 = set(map(int, input(\"Enter the first set of integers separated by commas: \").split(',')))\n",
    "    set2 = set(map(int, input(\"Enter the second set of integers separated by commas: \").split(',')))\n",
    "    print(\"Intersection:\", set1 & set2)\n",
    "\n",
    "intersection_of_sets()"
   ]
  },
  {
   "cell_type": "code",
   "execution_count": 53,
   "metadata": {},
   "outputs": [
    {
     "data": {
      "text/plain": [
       "{1, 2, 3, 4, 6, 7, 8}"
      ]
     },
     "execution_count": 53,
     "metadata": {},
     "output_type": "execute_result"
    }
   ],
   "source": [
    "# 23.Concatenate two tuples:\n",
    "def Concatenate(t1, t2):\n",
    "    return (set(t1+t2))\n",
    "\n",
    "t1 = (1,2,3,4,8)\n",
    "t2 = (2,4,1,6,7)\n",
    "Concatenate(t1, t2)"
   ]
  },
  {
   "cell_type": "code",
   "execution_count": 2,
   "metadata": {},
   "outputs": [
    {
     "name": "stdout",
     "output_type": "stream",
     "text": [
      "elements in the first set but not the second:  {'alam'}\n"
     ]
    }
   ],
   "source": [
    "# 24.Prompt user to input two sets of strings, then print the elements in the first set but not the second.\n",
    "def difference():\n",
    "    set1 = set(input(\"Enter the string2 separated by commas:\").split(','))\n",
    "    set2 = set(input(\"Enter the string2 separated by commas:\").split(','))\n",
    "    print(\"elements in the first set but not the second: \", set1-set2)\n",
    "\n",
    "difference()"
   ]
  },
  {
   "cell_type": "code",
   "execution_count": 3,
   "metadata": {},
   "outputs": [
    {
     "data": {
      "text/plain": [
       "(4, 5, 6)"
      ]
     },
     "execution_count": 3,
     "metadata": {},
     "output_type": "execute_result"
    }
   ],
   "source": [
    "# 25. Create a code that takes a tuple and two integers as input, return a new tuple containing elements within the specified range of indices.\n",
    "def tuple_slice(tup, start, end):\n",
    "    return tup[start:end]\n",
    "tup = (1,2,3,4,5,6,7,8)\n",
    "start, end = 3,6\n",
    "tuple_slice(tup, start, end)"
   ]
  },
  {
   "cell_type": "code",
   "execution_count": 5,
   "metadata": {},
   "outputs": [
    {
     "name": "stdout",
     "output_type": "stream",
     "text": [
      "Union of two set:  {'aman', 'khan', 'my', 'hello', 'is', 'name'}\n"
     ]
    }
   ],
   "source": [
    "# 26. Prompt user to input two sets of characters, then print the union of these two sets.\n",
    "def union_of_char_set():\n",
    "    set1 = set(input(\"Enter set1: \").split())\n",
    "    set2 = set(input(\"Enter set2: \").split())\n",
    "    print(\"Union of two set: \", set1|set2)\n",
    "\n",
    "union_of_char_set()"
   ]
  },
  {
   "cell_type": "code",
   "execution_count": 6,
   "metadata": {},
   "outputs": [
    {
     "data": {
      "text/plain": [
       "(7, 1)"
      ]
     },
     "execution_count": 6,
     "metadata": {},
     "output_type": "execute_result"
    }
   ],
   "source": [
    "# 27. Take a tuple of integers as input, return the maximum and minimum values using tuple unpacking.\n",
    "def min_max(tup):\n",
    "    min_val = min(tup)\n",
    "    max_val = max(tup)\n",
    "    return max_val, min_val\n",
    "tup = (5,3,2,1,7)\n",
    "min_max(tup)\n",
    "\n"
   ]
  },
  {
   "cell_type": "code",
   "execution_count": 7,
   "metadata": {},
   "outputs": [
    {
     "name": "stdout",
     "output_type": "stream",
     "text": [
      "Union:  {1, 2, 3, 4, 5, 6}\n",
      "Intersection:  {3, 4}\n",
      "Difference:  {1, 2}\n"
     ]
    }
   ],
   "source": [
    "# 28. Define two sets of integers, print the union, intersection, and difference of these two sets.\n",
    "def set_operation():\n",
    "    set1 = {1,2,3,4}\n",
    "    set2 = {3,4,5,6}\n",
    "    print(\"Union: \", set1|set2)\n",
    "    print(\"Intersection: \", set1&set2)\n",
    "    print(\"Difference: \", set1-set2)\n",
    "\n",
    "set_operation()"
   ]
  },
  {
   "cell_type": "code",
   "execution_count": 8,
   "metadata": {},
   "outputs": [
    {
     "data": {
      "text/plain": [
       "3"
      ]
     },
     "execution_count": 8,
     "metadata": {},
     "output_type": "execute_result"
    }
   ],
   "source": [
    "# 29. Write a code that takes a tuple and an element, return the count of occurrences of the given element in the tuple.\n",
    "def count_occurence(tup, elem):\n",
    "    return tup.count(elem)\n",
    "\n",
    "tup = (1,2,3,2,2,5,6)\n",
    "elem = 2\n",
    "count_occurence(tup, elem)"
   ]
  },
  {
   "cell_type": "code",
   "execution_count": 11,
   "metadata": {},
   "outputs": [
    {
     "name": "stdout",
     "output_type": "stream",
     "text": [
      "Symmetric Differnce:  {'khan', 'aman'}\n"
     ]
    }
   ],
   "source": [
    "# 30. Prompt user to input two sets of strings, then print the symmetric difference of these two sets.\n",
    "def symmetric_diff():\n",
    "    set1 = set(input(\"Enter set1: \").split())\n",
    "    set2 = set(input(\"Enter set2: \").split())\n",
    "    print(\"Symmetric Differnce: \", set1^set2)\n",
    "\n",
    "symmetric_diff()"
   ]
  },
  {
   "cell_type": "code",
   "execution_count": 14,
   "metadata": {},
   "outputs": [
    {
     "data": {
      "text/plain": [
       "{'apple': 3, 'banana': 2, 'orange': 1}"
      ]
     },
     "execution_count": 14,
     "metadata": {},
     "output_type": "execute_result"
    }
   ],
   "source": [
    "# 31. Code that takes a list of words as input and returns a dictionary with unique words and their frequencies.\n",
    "from collections import Counter\n",
    "def count_occurrences(lst):\n",
    "    return dict(Counter(lst))\n",
    "\n",
    "lst = [\"apple\", \"banana\", \"apple\", \"orange\", \"banana\", \"apple\"]\n",
    "count_occurrences(lst)"
   ]
  },
  {
   "cell_type": "code",
   "execution_count": 15,
   "metadata": {},
   "outputs": [
    {
     "name": "stdout",
     "output_type": "stream",
     "text": [
      "{'a': 1, 'b': 5, 'c': 4}\n"
     ]
    }
   ],
   "source": [
    "# 32. Code that takes two dictionaries and merges them into a single dictionary. Add values for common keys.\n",
    "def merge_dict(dict1, dict2):\n",
    "    merge = {**dict1}\n",
    "    for key, value in dict2.items():\n",
    "        if key in merge:\n",
    "            merge[key] += value\n",
    "        else:\n",
    "            merge[key] = value\n",
    "    return merge\n",
    "dict1 = {'a': 1, 'b': 2}\n",
    "dict2 = {'b': 3, 'c': 4}\n",
    "print(merge_dict(dict1, dict2))"
   ]
  },
  {
   "cell_type": "code",
   "execution_count": 24,
   "metadata": {},
   "outputs": [
    {
     "name": "stdout",
     "output_type": "stream",
     "text": [
      "42\n"
     ]
    }
   ],
   "source": [
    "# 33. Code to access a value in a nested dictionary, returning the corresponding value or None if the key is missing.\n",
    "def nested_dict(dict, keys):\n",
    "    value = dict\n",
    "    for key in keys:\n",
    "        if key in value:\n",
    "            value = value[key]\n",
    "        else:\n",
    "            return None\n",
    "    return value\n",
    "dict = {'a': {'b': {'c': 42}}}\n",
    "keys = ['a', 'b', 'c']\n",
    "print(nested_dict(dict, keys))"
   ]
  },
  {
   "cell_type": "code",
   "execution_count": null,
   "metadata": {},
   "outputs": [],
   "source": [
    "# 34. Code to sort a dictionary based on its values, allowing for ascending or descending order.\n",
    "def sort_dict_by_values(dct, reverse=False):\n",
    "    return dict(sorted(dct.items(), key=lambda item: item[1], reverse=reverse))\n",
    "\n",
    "# Example\n",
    "dct = {'apple': 5, 'banana': 2, 'orange': 3}\n",
    "print(sort_dict_by_values(dct))  # Output: {'banana': 2, 'orange': 3, 'apple': 5}"
   ]
  },
  {
   "cell_type": "code",
   "execution_count": 43,
   "metadata": {},
   "outputs": [
    {
     "name": "stdout",
     "output_type": "stream",
     "text": [
      "{1: ['a', 'c'], 2: ['b']}\n"
     ]
    }
   ],
   "source": [
    "# 35. Code to invert a dictionary, swapping keys and values, handling cases where multiple keys have the same value.\n",
    "def invert_dict(d):\n",
    "    inverted_dict = {}\n",
    "    for key, value in d.items():\n",
    "        if value not in inverted_dict:\n",
    "            inverted_dict[value] = [key]  \n",
    "        else:\n",
    "            inverted_dict[value].append(key)  \n",
    "    return inverted_dict\n",
    "\n",
    "# Example usage\n",
    "d = {'a': 1, 'b': 2, 'c': 1}\n",
    "print(invert_dict(d))\n"
   ]
  },
  {
   "cell_type": "code",
   "execution_count": null,
   "metadata": {},
   "outputs": [],
   "source": []
  },
  {
   "cell_type": "code",
   "execution_count": null,
   "metadata": {},
   "outputs": [],
   "source": []
  }
 ],
 "metadata": {
  "kernelspec": {
   "display_name": "Python 3",
   "language": "python",
   "name": "python3"
  },
  "language_info": {
   "codemirror_mode": {
    "name": "ipython",
    "version": 3
   },
   "file_extension": ".py",
   "mimetype": "text/x-python",
   "name": "python",
   "nbconvert_exporter": "python",
   "pygments_lexer": "ipython3",
   "version": "3.12.2"
  }
 },
 "nbformat": 4,
 "nbformat_minor": 2
}
